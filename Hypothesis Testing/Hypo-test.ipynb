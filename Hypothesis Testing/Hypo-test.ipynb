{
 "cells": [
  {
   "cell_type": "code",
   "execution_count": 1,
   "id": "616d53df-c91b-42b6-bd56-0ddedb9f1300",
   "metadata": {},
   "outputs": [],
   "source": [
    "import scipy.stats as stats"
   ]
  },
  {
   "cell_type": "code",
   "execution_count": 2,
   "id": "bceaf57e-8e40-459d-a603-37922876b9c9",
   "metadata": {},
   "outputs": [
    {
     "name": "stdout",
     "output_type": "stream",
     "text": [
      "1.6367825323508776\n"
     ]
    }
   ],
   "source": [
    "from scipy.stats import t\n",
    "\n",
    "# Set the t-value and degrees of freedom\n",
    "t_value = 1\n",
    "df = 5  # Replace this with your specific degrees of freedom\n",
    "\n",
    "# Calculate the CDF value\n",
    "cdf_value = t.cdf(t_value, df)\n",
    "print(cdf_value*2)\n"
   ]
  },
  {
   "cell_type": "code",
   "execution_count": 3,
   "id": "1d24e99a-fa9f-4f59-b39f-4839bf8f1043",
   "metadata": {},
   "outputs": [
    {
     "name": "stdout",
     "output_type": "stream",
     "text": [
      "Shapiro-Wilk test for desktop users: ShapiroResult(statistic=0.9783115512411942, pvalue=0.7791003299808725)\n",
      "Shapiro-Wilk test for mobile users: ShapiroResult(statistic=0.9714355768676655, pvalue=0.5791606602037616)\n"
     ]
    }
   ],
   "source": [
    "# The Shapiro-Wilk test returns two values: the test statistic (W) and the p-value. \n",
    "# If the p-value is greater than your chosen significance level (α = 0.05), \n",
    "# you can assume the data comes from a normally distributed population. \n",
    "# If the p-value is less than or equal to the significance level, the normality assumption is not met, \n",
    "# and you should consider applying a data transformation or using a non-parametric test like the Mann-Whitney U test.\n",
    "\n",
    "\n",
    "from scipy.stats import shapiro\n",
    "\n",
    "# Input the data as lists\n",
    "desktop_users = [12, 15, 18, 16, 20, 17, 14, 22, 19, 21, 23, 18, 25, 17, 16, 24, 20, 19, 22, 18, 15, 14, 23, 16, 12, 21, 19, 17, 20, 14]\n",
    "mobile_users = [10, 12, 14, 13, 16, 15, 11, 17, 14, 16, 18, 14, 20, 15, 14, 19, 16, 15, 17, 14, 12, 11, 18, 15, 10, 16, 15, 13, 16, 11]\n",
    "\n",
    "# Perform the Shapiro-Wilk test for both desktop and mobile users\n",
    "shapiro_desktop = shapiro(desktop_users)\n",
    "shapiro_mobile = shapiro(mobile_users)\n",
    "\n",
    "print(\"Shapiro-Wilk test for desktop users:\", shapiro_desktop)\n",
    "print(\"Shapiro-Wilk test for mobile users:\", shapiro_mobile)"
   ]
  },
  {
   "cell_type": "code",
   "execution_count": 4,
   "id": "5d9e812d-6ccc-4d24-8ad6-95709637c04c",
   "metadata": {},
   "outputs": [
    {
     "name": "stdout",
     "output_type": "stream",
     "text": [
      "LeveneResult(statistic=2.94395488191752, pvalue=0.09153720526741756)\n"
     ]
    }
   ],
   "source": [
    "# If the p-value from Levene's test is greater than your chosen significance level (α = 0.05), you can assume equal variances\n",
    "#  If the p-value is less than or equal to the significance level, the assumption of equal variances is not met, \n",
    "# and you should consider using Welch's t-test instead of the regular independent two-sample t-test.\n",
    "\n",
    "from scipy.stats import levene\n",
    "\n",
    "# Input the data as lists\n",
    "desktop_users = [12, 15, 18, 16, 20, 17, 14, 22, 19, 21, 23, 18, 25, 17, 16, 24, 20, 19, 22, 18, 15, 14, 23, 16, 12, 21, 19, 17, 20, 14]\n",
    "mobile_users = [10, 12, 14, 13, 16, 15, 11, 17, 14, 16, 18, 14, 20, 15, 14, 19, 16, 15, 17, 14, 12, 11, 18, 15, 10, 16, 15, 13, 16, 11]\n",
    "\n",
    "# Perform Levene's test\n",
    "levene_test = levene(desktop_users, mobile_users)\n",
    "print(levene_test)\n"
   ]
  },
  {
   "cell_type": "code",
   "execution_count": null,
   "id": "6be169ab-602a-42af-90a4-f16148ff5be4",
   "metadata": {},
   "outputs": [],
   "source": []
  },
  {
   "cell_type": "markdown",
   "id": "6e0ba513-dc78-4b3f-80a5-9271ce71d7ef",
   "metadata": {},
   "source": [
    "1. **One-sample t-test**\n",
    "2. **Two-sample t-test**\n",
    "3. **Paired sample t-test**\n",
    "4. **Chi-squared test**\n",
    "5. **ANOVA**\n",
    "6. **Mann-Whitney U test**"
   ]
  },
  {
   "cell_type": "code",
   "execution_count": 7,
   "id": "7bbebead-099a-4b36-86fe-f02736e8a66c",
   "metadata": {},
   "outputs": [],
   "source": [
    "import numpy as np\n",
    "import pandas as pd\n",
    "import scipy.stats as stats\n",
    "import matplotlib.pyplot as plt\n",
    "\n",
    "# Set seed for reproducibility\n",
    "np.random.seed(0)\n",
    "\n",
    "# Generate random data\n",
    "data1 = np.random.normal(loc=0, scale=1, size=100)  # Group 1\n",
    "data2 = np.random.normal(loc=0.5, scale=1, size=100)  # Group 2\n",
    "data3 = np.random.normal(loc=1, scale=1, size=100)  # Group 3\n",
    "data4 = np.random.normal(loc=1.5, scale=1, size=100)  # Group 4"
   ]
  },
  {
   "cell_type": "code",
   "execution_count": 8,
   "id": "fe28b5e6-755f-428b-8491-693ee4216ffe",
   "metadata": {},
   "outputs": [
    {
     "name": "stdout",
     "output_type": "stream",
     "text": [
      "One-sample t-test:\n",
      "T-statistic: 0.5904283402851698, P-value: 0.5562489158694675\n"
     ]
    }
   ],
   "source": [
    "### 1. One-sample t-test\n",
    "\n",
    "### A one-sample t-test checks if the mean of a single group is different from a known population mean.\n",
    "\n",
    "# One-sample t-test\n",
    "pop_mean = 0\n",
    "t_stat, p_val = stats.ttest_1samp(data1, pop_mean)\n",
    "print(\"One-sample t-test:\")\n",
    "print(f\"T-statistic: {t_stat}, P-value: {p_val}\")"
   ]
  },
  {
   "cell_type": "code",
   "execution_count": 10,
   "id": "38d3b14d-f2a1-4921-a482-78e436bdfa75",
   "metadata": {},
   "outputs": [
    {
     "name": "stdout",
     "output_type": "stream",
     "text": [
      "\n",
      "Two-sample t-test:\n",
      "T-statistic: -3.597192759749613, P-value: 0.0004062796020362524\n"
     ]
    }
   ],
   "source": [
    "### 2. Two-sample t-test\n",
    "\n",
    "### A two-sample t-test checks if the means of two independent groups are different.\n",
    "# Two-sample t-test\n",
    "t_stat, p_val = stats.ttest_ind(data1, data2)\n",
    "print(\"\\nTwo-sample t-test:\")\n",
    "print(f\"T-statistic: {t_stat}, P-value: {p_val}\")"
   ]
  },
  {
   "cell_type": "code",
   "execution_count": 11,
   "id": "2faf322f-31bd-4b5f-9ece-5e8e7924d2cf",
   "metadata": {},
   "outputs": [
    {
     "name": "stdout",
     "output_type": "stream",
     "text": [
      "\n",
      "Paired sample t-test:\n",
      "T-statistic: -0.9849155353858514, P-value: 0.332812052295149\n"
     ]
    }
   ],
   "source": [
    "### 3. Paired sample t-test\n",
    "\n",
    "### A paired sample t-test checks if the means of two related groups are different.\n",
    "\n",
    "\n",
    "# For the paired test, generate some related data\n",
    "paired_data1 = np.random.normal(loc=0, scale=1, size=30)\n",
    "paired_data2 = paired_data1 + np.random.normal(loc=0.1, scale=0.5, size=30)  # Related data\n",
    "\n",
    "# Paired t-test\n",
    "t_stat, p_val = stats.ttest_rel(paired_data1, paired_data2)\n",
    "print(\"\\nPaired sample t-test:\")\n",
    "print(f\"T-statistic: {t_stat}, P-value: {p_val}\")"
   ]
  },
  {
   "cell_type": "code",
   "execution_count": 12,
   "id": "610e8b8d-cb2d-4c8d-9b3e-5b5121356513",
   "metadata": {},
   "outputs": [
    {
     "name": "stdout",
     "output_type": "stream",
     "text": [
      "\n",
      "Chi-squared test:\n",
      "Chi-squared: 0.128, P-value: 0.7205147871362552\n"
     ]
    }
   ],
   "source": [
    "### 4. Chi-squared test\n",
    "\n",
    "### A chi-squared test checks the relationship between categorical variables. Here, we'll create some categorical data.\n",
    "\n",
    "\n",
    "# Create categorical data\n",
    "observed = np.array([[10, 20], [20, 30]])\n",
    "chi2, p_val, dof, expected = stats.chi2_contingency(observed)\n",
    "\n",
    "print(\"\\nChi-squared test:\")\n",
    "print(f\"Chi-squared: {chi2}, P-value: {p_val}\")"
   ]
  },
  {
   "cell_type": "code",
   "execution_count": 13,
   "id": "4d535047-43fb-4b24-8372-6ba741b24b17",
   "metadata": {},
   "outputs": [
    {
     "name": "stdout",
     "output_type": "stream",
     "text": [
      "\n",
      "ANOVA test:\n",
      "F-statistic: 28.880768176933508, P-value: 6.597598165696173e-17\n"
     ]
    }
   ],
   "source": [
    "### 5. ANOVA\n",
    "\n",
    "## ANOVA tests if there are significant differences between the means of three or more independent groups.\n",
    "\n",
    "# ANOVA\n",
    "f_stat, p_val = stats.f_oneway(data1, data2, data3, data4)\n",
    "print(\"\\nANOVA test:\")\n",
    "print(f\"F-statistic: {f_stat}, P-value: {p_val}\")"
   ]
  },
  {
   "cell_type": "code",
   "execution_count": 14,
   "id": "bd4a6033-2050-4d06-b0aa-0fbe4ca8ef9e",
   "metadata": {},
   "outputs": [
    {
     "name": "stdout",
     "output_type": "stream",
     "text": [
      "\n",
      "Mann-Whitney U test:\n",
      "U-statistic: 3717.0, P-value: 0.0017264885889391286\n"
     ]
    }
   ],
   "source": [
    "### 6. Mann-Whitney U test\n",
    "\n",
    "## The Mann-Whitney U test is a non-parametric test that checks if two independent samples come from the same distribution.\n",
    "\n",
    "\n",
    "u_stat, p_val = stats.mannwhitneyu(data1, data2)\n",
    "print(\"\\nMann-Whitney U test:\")\n",
    "print(f\"U-statistic: {u_stat}, P-value: {p_val}\")"
   ]
  },
  {
   "cell_type": "markdown",
   "id": "3ad2b95d-24d9-44c8-9882-96b19a54428b",
   "metadata": {},
   "source": [
    "### Conclusion\n",
    "\n",
    "In this example, we covered various hypothesis tests with random data. Each test has its own assumptions and scenarios in which it is appropriate. It's essential to understand the underlying assumptions before choosing a test for your data analysis. You can run this code in your Python environment to see the results."
   ]
  },
  {
   "cell_type": "code",
   "execution_count": null,
   "id": "8f2347f6-f02b-4244-9069-8fef081cc5f0",
   "metadata": {},
   "outputs": [],
   "source": []
  }
 ],
 "metadata": {
  "kernelspec": {
   "display_name": "Python 3 (ipykernel)",
   "language": "python",
   "name": "python3"
  },
  "language_info": {
   "codemirror_mode": {
    "name": "ipython",
    "version": 3
   },
   "file_extension": ".py",
   "mimetype": "text/x-python",
   "name": "python",
   "nbconvert_exporter": "python",
   "pygments_lexer": "ipython3",
   "version": "3.11.5"
  }
 },
 "nbformat": 4,
 "nbformat_minor": 5
}
